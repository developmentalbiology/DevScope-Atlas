{
 "cells": [
  {
   "cell_type": "code",
   "execution_count": 1,
   "id": "2a41ca48-fa44-4413-9099-5aa84de2da84",
   "metadata": {},
   "outputs": [
    {
     "name": "stdout",
     "output_type": "stream",
     "text": [
      "\n",
      "   ____            _     _    __                  \n",
      "  / __ \\____ ___  (_)___| |  / /__  _____________ \n",
      " / / / / __ `__ \\/ / ___/ | / / _ \\/ ___/ ___/ _ \\ \n",
      "/ /_/ / / / / / / / /__ | |/ /  __/ /  (__  )  __/ \n",
      "\\____/_/ /_/ /_/_/\\___/ |___/\\___/_/  /____/\\___/                                              \n",
      "\n",
      "Version: 1.5.3, Tutorials: https://omicverse.readthedocs.io/\n"
     ]
    },
    {
     "name": "stderr",
     "output_type": "stream",
     "text": [
      "[rank: 0] Global seed set to 0\n"
     ]
    }
   ],
   "source": [
    "import os\n",
    "import anndata as ad\n",
    "import numpy as np\n",
    "import scanpy as sc\n",
    "import pandas as pd\n",
    "import matplotlib.pyplot as plt\n",
    "import seaborn as sns\n",
    "import omicverse as ov\n",
    "import scvi\n",
    "from scvi.model.utils import mde\n",
    "\n",
    "import warnings\n",
    "warnings.filterwarnings('ignore')\n",
    "%load_ext autoreload\n",
    "%autoreload 2"
   ]
  },
  {
   "cell_type": "code",
   "execution_count": 2,
   "id": "a1bae74d-ed82-4459-a167-c395cc5e38dc",
   "metadata": {},
   "outputs": [],
   "source": [
    "sc.settings.set_figure_params(dpi=100, frameon=False)\n",
    "sc.set_figure_params(dpi=100)\n",
    "sc.set_figure_params(figsize=(3, 3))\n",
    "plt.rcParams['figure.dpi'] = 100\n",
    "plt.rcParams['figure.figsize'] = (3, 3)"
   ]
  },
  {
   "cell_type": "code",
   "execution_count": 3,
   "id": "16d92def-e0fb-4572-ad9b-1149b0190749",
   "metadata": {},
   "outputs": [
    {
     "data": {
      "text/plain": [
       "'/storage/liuxiaodongLab/fanxueying/mayanalysis/embryomodel_integration'"
      ]
     },
     "execution_count": 3,
     "metadata": {},
     "output_type": "execute_result"
    }
   ],
   "source": [
    "# Change the working directory to the Garfield folder (if needed)\n",
    "os.chdir('/storage/liuxiaodongLab/fanxueying/mayanalysis/embryomodel_integration')\n",
    "os.getcwd()"
   ]
  },
  {
   "cell_type": "code",
   "execution_count": 4,
   "id": "240c0f03-090c-4d46-9b84-c211f7d1e2f8",
   "metadata": {},
   "outputs": [
    {
     "data": {
      "text/plain": [
       "AnnData object with n_obs × n_vars = 33406 × 60421\n",
       "    obs: 'orig.ident', 'nCount_RNA', 'nFeature_RNA', 'sample', 'stage', 'percent.mt', 'species', 'embryo', 'platform', 'ann_level_2', 'ann_level_3', 'ann_level_1', 'doublet', 'doublet_score', 'Unintegrated_res_0.5', 'Scanorama_res_0.5', 'LIGER_res_0.5', 'Harmony_res_0.5', 'scVI_res_0.5', 'scANVI_res_0.5', 'CCA_res_0.5', 'FastMNN_res_0.5', 'leiden_1', 'leiden_2', 'leiden_3', 'leiden_4', 'reanno', 'lineage', 'unicorns', 'combined_annotation', 'final_anno', 'final_lineage'\n",
       "    var: 'features', 'n_cells', 'highly_variable', 'means', 'dispersions', 'dispersions_norm', 'highly_variable_nbatches', 'highly_variable_intersection'\n",
       "    uns: 'CCA_res_0.5_colors', 'FastMNN_res_0.5_colors', 'Harmony_res_0.5_colors', 'LIGER_res_0.5_colors', 'Scanorama_res_0.5_colors', 'Unintegrated_res_0.5_colors', 'anno_colors', 'dendrogram_lineage', 'dendrogram_reanno', 'final_anno_colors', 'final_lineage_colors', 'harmo.anno_colors', 'hvg', 'leiden', 'leiden_3_colors', 'lineage_colors', 'log1p', 'neighbors', 'orig.ident_colors', 'pca', 'rank_genes_groups', 'reanno_colors', 'scANVI_res_0.5_colors', 'scVI_res_0.5_colors', 'stage_colors', 'sub_anno_colors', 'umap', 'unicorns_colors'\n",
       "    obsm: 'CCA', 'FastMNN', 'Harmony', 'LIGER', 'Scanorama', 'Unintegrated', 'X_CCA', 'X_FastMNN', 'X_Harmony', 'X_LIGER', 'X_Scanorama', 'X_Unintegrated', 'X_pca', 'X_scANVI', 'X_scVI', 'X_umap', 'scANVI', 'scVI'\n",
       "    varm: 'PCs'\n",
       "    layers: 'counts', 'logcounts'\n",
       "    obsp: 'connectivities', 'distances'"
      ]
     },
     "execution_count": 4,
     "metadata": {},
     "output_type": "execute_result"
    }
   ],
   "source": [
    "# Load dataset\n",
    "os.chdir(\"/storage/liuxiaodongLab/fanxueying/mayanalysis/2024Aug\")\n",
    "adata = sc.read('human_reanno_20250108.h5ad')\n",
    "adata"
   ]
  },
  {
   "cell_type": "code",
   "execution_count": 5,
   "id": "ec720fc0-d8c8-4029-8427-ff037ec9ffc7",
   "metadata": {},
   "outputs": [
    {
     "data": {
      "text/plain": [
       "AnnData object with n_obs × n_vars = 2323 × 62754\n",
       "    obs: 'day', 'ct', 'experiment', 'technology', 'n_counts', 'n_genes', 'ct_fine'\n",
       "    layers: 'counts'"
      ]
     },
     "execution_count": 5,
     "metadata": {},
     "output_type": "execute_result"
    }
   ],
   "source": [
    "preimplantation_adata = sc.read('/storage/liuxiaodongLab/fanxueying/mayanalysis/32_human_adata.h5ad')\n",
    "preimplantation_adata"
   ]
  },
  {
   "cell_type": "code",
   "execution_count": 6,
   "id": "7b81af17-ffa6-4a88-aa0d-bb6a08d0cbf1",
   "metadata": {},
   "outputs": [
    {
     "name": "stdout",
     "output_type": "stream",
     "text": [
      "{'Yan_2013', 'Meistermann_2021', 'Xiang_2020', 'Yanagida_2021', 'Xue_2013', 'Petropoulos_2016'}\n"
     ]
    }
   ],
   "source": [
    "print(set(preimplantation_adata.obs[\"experiment\"]))"
   ]
  },
  {
   "cell_type": "code",
   "execution_count": 7,
   "id": "68524e55-857a-4323-81c9-f341ebe37ee0",
   "metadata": {},
   "outputs": [
    {
     "name": "stdout",
     "output_type": "stream",
     "text": [
      "{'Tang2009', 'SMARTSeq', 'SMARTSeq2'}\n"
     ]
    }
   ],
   "source": [
    "print(set(preimplantation_adata.obs[\"technology\"]))"
   ]
  },
  {
   "cell_type": "code",
   "execution_count": 25,
   "id": "a25a1821-f5e9-4bc4-8d04-e50dc83d3b87",
   "metadata": {},
   "outputs": [
    {
     "name": "stdout",
     "output_type": "stream",
     "text": [
      "{0.0, 1.25, 2.0, 3.0, 4.0, 5.0, 6.0, 7.0, 8.0, 9.0, 10.0, 0.75, 0.33}\n"
     ]
    }
   ],
   "source": [
    "print(set(preimplantation_adata.obs[\"day\"]))"
   ]
  },
  {
   "cell_type": "code",
   "execution_count": 8,
   "id": "6bbb5a2a-2931-4086-a6ed-e4664a82e57a",
   "metadata": {},
   "outputs": [
    {
     "name": "stdout",
     "output_type": "stream",
     "text": [
      "{'Prelineage', 'Trophectoderm_10.0', 'Trophectoderm_9.0', 'Epiblast_6.0', 'Late epiblast', '8C_3.0', 'Primitive Endoderm', 'Morula_4.0', 'Trophectoderm_6.0', 'Trophectoderm_8.0', 'Epiblast_7.0', 'Trophectoderm_7.0', 'Unknown', 'Inner Cell Mass', 'Trophectoderm_5.0'}\n"
     ]
    }
   ],
   "source": [
    "print(set(preimplantation_adata.obs[\"ct_fine\"]))"
   ]
  },
  {
   "cell_type": "code",
   "execution_count": 9,
   "id": "2a623e28-3a26-4d58-84bc-fb99b4878df9",
   "metadata": {},
   "outputs": [
    {
     "name": "stdout",
     "output_type": "stream",
     "text": [
      "{'8C', 'Trophectoderm', 'Late epiblast', 'Primitive Endoderm', 'Morula', 'Epiblast', 'Prelineage', 'Unknown', 'Inner Cell Mass'}\n"
     ]
    }
   ],
   "source": [
    "import re\n",
    "# Define a function to clean up cell type annotations\n",
    "def clean_cell_type(annotation):\n",
    "    # Remove everything after the first underscore (_), including the underscore itself\n",
    "    cleaned = re.sub(r'_.*', '', annotation)\n",
    "    # Strip any leading/trailing whitespace\n",
    "    cleaned = cleaned.strip()\n",
    "    return cleaned\n",
    "\n",
    "# Apply the cleanup function to the existing cell type annotations\n",
    "cleaned_annotations = preimplantation_adata.obs[\"ct_fine\"].apply(clean_cell_type)\n",
    "\n",
    "print(set(cleaned_annotations))\n"
   ]
  },
  {
   "cell_type": "code",
   "execution_count": 10,
   "id": "2719cd13-7db2-4e66-9b82-44ad723d1209",
   "metadata": {},
   "outputs": [
    {
     "name": "stdout",
     "output_type": "stream",
     "text": [
      "New 'lineage' column added to embryomodel.obs:\n",
      "Trophectoderm         1270\n",
      "Unknown                609\n",
      "Inner Cell Mass        140\n",
      "Epiblast               122\n",
      "Primitive Endoderm      59\n",
      "Prelineage              39\n",
      "Late epiblast           35\n",
      "8C                      30\n",
      "Morula                  19\n",
      "Name: final_lineage, dtype: int64\n"
     ]
    }
   ],
   "source": [
    "preimplantation_adata.obs[\"final_lineage\"] = cleaned_annotations\n",
    "# Verify the new column\n",
    "print(\"New 'lineage' column added to embryomodel.obs:\")\n",
    "print(preimplantation_adata.obs[\"final_lineage\"].value_counts())"
   ]
  },
  {
   "cell_type": "code",
   "execution_count": 11,
   "id": "0e2d9b93-49b7-40a8-8a71-7be26a50bff7",
   "metadata": {},
   "outputs": [
    {
     "name": "stdout",
     "output_type": "stream",
     "text": [
      "Filtered dataset shape: (1714, 62754)\n",
      "Unique values in 'final_lineage':\n",
      "['Trophectoderm' 'Inner Cell Mass' 'Primitive Endoderm' 'Epiblast'\n",
      " 'Late epiblast' 'Prelineage' '8C' 'Morula']\n"
     ]
    }
   ],
   "source": [
    "# Subset the AnnData object to exclude cells with \"final_lineage\" == \"Unknown\"\n",
    "filtered_preimplantation_adata = preimplantation_adata[preimplantation_adata.obs[\"final_lineage\"] != \"Unknown\"].copy()\n",
    "\n",
    "# Verify the filtered dataset\n",
    "print(f\"Filtered dataset shape: {filtered_preimplantation_adata.shape}\")\n",
    "print(\"Unique values in 'final_lineage':\")\n",
    "print(filtered_preimplantation_adata.obs[\"final_lineage\"].unique())"
   ]
  },
  {
   "cell_type": "code",
   "execution_count": 12,
   "id": "09d50899-5225-4fd9-8755-b049d9653365",
   "metadata": {},
   "outputs": [
    {
     "name": "stdout",
     "output_type": "stream",
     "text": [
      "Renamed columns in filtered_preimplantation_adata.obs:\n",
      "Index(['stage', 'ann_level_2', 'orig.ident', 'platform', 'nCount_RNA',\n",
      "       'nFeature_RNA', 'ann_level_3', 'final_lineage'],\n",
      "      dtype='object')\n",
      "\n",
      "First few rows of updated .obs:\n",
      "                       stage      ann_level_2        orig.ident   platform  \\\n",
      "index                                                                        \n",
      "ERX1121097_ERX1121097    5.0    Trophectoderm  Petropoulos_2016  SMARTSeq2   \n",
      "ERX1121101_ERX1121101    5.0    Trophectoderm  Petropoulos_2016  SMARTSeq2   \n",
      "ERX1121098_ERX1121098    5.0    Trophectoderm  Petropoulos_2016  SMARTSeq2   \n",
      "ERX1121099_ERX1121099    5.0  Inner Cell Mass  Petropoulos_2016  SMARTSeq2   \n",
      "ERX1121100_ERX1121100    5.0    Trophectoderm  Petropoulos_2016  SMARTSeq2   \n",
      "\n",
      "                       nCount_RNA  nFeature_RNA        ann_level_3  \\\n",
      "index                                                                \n",
      "ERX1121097_ERX1121097   5571678.0         12456  Trophectoderm_5.0   \n",
      "ERX1121101_ERX1121101    790219.0         12537  Trophectoderm_5.0   \n",
      "ERX1121098_ERX1121098   3584994.0         12018  Trophectoderm_5.0   \n",
      "ERX1121099_ERX1121099   6161299.0         11312    Inner Cell Mass   \n",
      "ERX1121100_ERX1121100   6728655.0         10265  Trophectoderm_5.0   \n",
      "\n",
      "                         final_lineage  \n",
      "index                                   \n",
      "ERX1121097_ERX1121097    Trophectoderm  \n",
      "ERX1121101_ERX1121101    Trophectoderm  \n",
      "ERX1121098_ERX1121098    Trophectoderm  \n",
      "ERX1121099_ERX1121099  Inner Cell Mass  \n",
      "ERX1121100_ERX1121100    Trophectoderm  \n"
     ]
    }
   ],
   "source": [
    "# Rename the columns in preimplantation_adata.obs\n",
    "filtered_preimplantation_adata.obs.rename(\n",
    "    columns={\n",
    "        \"day\": \"stage\",\n",
    "        \"n_counts\": \"nCount_RNA\",\n",
    "        \"n_genes\": \"nFeature_RNA\",\n",
    "        \"ct\": \"ann_level_2\",\n",
    "        \"ct_fine\": \"ann_level_3\",\n",
    "        \"technology\": \"platform\",\n",
    "        \"experiment\": \"orig.ident\"\n",
    "    },\n",
    "    inplace=True\n",
    ")\n",
    "\n",
    "# Verify the renamed columns\n",
    "print(\"Renamed columns in filtered_preimplantation_adata.obs:\")\n",
    "print(filtered_preimplantation_adata.obs.columns)\n",
    "\n",
    "# Optionally inspect the first few rows of the updated .obs DataFrame\n",
    "print(\"\\nFirst few rows of updated .obs:\")\n",
    "print(filtered_preimplantation_adata.obs.head())"
   ]
  },
  {
   "cell_type": "code",
   "execution_count": 13,
   "id": "874f6a0d-8d96-4493-94b2-43c3ab6069bc",
   "metadata": {},
   "outputs": [
    {
     "name": "stdout",
     "output_type": "stream",
     "text": [
      "Index(['MIR1302-2HG', 'OR4F5', 'AL627309.1', 'AL627309.3', 'AL627309.5'], dtype='object')\n",
      "Index(['ENSG00000279928', 'ENSG00000228037', 'ENSG00000142611',\n",
      "       'ENSG00000284616', 'ENSG00000157911', 'ENSG00000269896',\n",
      "       'ENSG00000228463', 'ENSG00000260972', 'ENSG00000224340',\n",
      "       'ENSG00000226374', 'ENSG00000229280', 'ENSG00000142655',\n",
      "       'ENSG00000232596', 'ENSG00000235054', 'ENSG00000231510',\n",
      "       'ENSG00000149527', 'ENSG00000284739', 'ENSG00000171621',\n",
      "       'ENSG00000272235', 'ENSG00000284694'],\n",
      "      dtype='object')\n"
     ]
    }
   ],
   "source": [
    "print(adata.var.index[:5])\n",
    "print(filtered_preimplantation_adata.var.index[:20])"
   ]
  },
  {
   "cell_type": "code",
   "execution_count": 14,
   "id": "d19cb9e1-100a-4387-8d79-61bd6da2708e",
   "metadata": {},
   "outputs": [],
   "source": [
    "import pandas as pd\n",
    "\n",
    "# Load the GTF file\n",
    "gtf_file = \"/storage/liuxiaodongLab/fanxueying/gencode.v47lift37.annotation.gtf\"\n",
    "gtf = pd.read_csv(gtf_file, sep=\"\\t\", comment=\"#\", header=None)\n",
    "\n",
    "# Extract gene_id and gene_name\n",
    "gene_annotations = gtf[gtf[2] == \"gene\"]\n",
    "gene_annotations = gene_annotations[8].str.extract(r'gene_id \"(.*?)\";.*gene_name \"(.*?)\";')\n",
    "\n",
    "# Rename columns\n",
    "gene_annotations.columns = [\"gene_id\", \"gene_symbol\"]\n",
    "\n",
    "# Save the mapping file\n",
    "gene_annotations.to_csv(\"gene_id_to_symbol_mapping.tsv\", sep=\"\\t\", index=False)\n",
    "\n"
   ]
  },
  {
   "cell_type": "code",
   "execution_count": 15,
   "id": "16ab7ec7-c32d-40c6-9434-626d2d37a8e9",
   "metadata": {},
   "outputs": [
    {
     "name": "stdout",
     "output_type": "stream",
     "text": [
      "               gene_id gene_symbol\n",
      "0  ENSG00000308415.1_1     DDX11L2\n",
      "1  ENSG00000290825.2_2    DDX11L16\n",
      "2  ENSG00000223972.6_6     DDX11L1\n",
      "3  ENSG00000310526.1_1      WASH7P\n",
      "4  ENSG00000227232.6_7      WASH7P\n",
      "First few rows of the cleaned mapping file:\n",
      "           gene_id gene_symbol\n",
      "0  ENSG00000308415     DDX11L2\n",
      "1  ENSG00000290825    DDX11L16\n",
      "2  ENSG00000223972     DDX11L1\n",
      "3  ENSG00000310526      WASH7P\n",
      "4  ENSG00000227232      WASH7P\n"
     ]
    }
   ],
   "source": [
    "# Load the gene ID-to-symbol mapping file\n",
    "gene_mapping = pd.read_csv(\"gene_id_to_symbol_mapping.tsv\", sep=\"\\t\")\n",
    "\n",
    "# Verify the mapping\n",
    "print(gene_mapping.head())\n",
    "\n",
    "# Remove version numbers and suffixes from the gene IDs in the mapping file\n",
    "gene_mapping['gene_id'] = gene_mapping['gene_id'].str.split(\".\").str[0]  # Remove version numbers\n",
    "gene_mapping['gene_id'] = gene_mapping['gene_id'].str.split(\"_\").str[0]  # Remove suffixes\n",
    "\n",
    "# Verify the updated gene IDs in the mapping file\n",
    "print(\"First few rows of the cleaned mapping file:\")\n",
    "print(gene_mapping.head())"
   ]
  },
  {
   "cell_type": "code",
   "execution_count": 16,
   "id": "b2258d0b-7b3b-4837-be1b-f4c87258ce91",
   "metadata": {},
   "outputs": [
    {
     "name": "stdout",
     "output_type": "stream",
     "text": [
      "Data type of filtered_preimplantation_adata.var.index before conversion:\n",
      "object\n",
      "Data type of filtered_preimplantation_adata.var.index after conversion:\n",
      "object\n",
      "Updated gene IDs in filtered_preimplantation_adata.var.index:\n",
      "Index(['ENSG00000279928', 'ENSG00000228037', 'ENSG00000142611',\n",
      "       'ENSG00000284616', 'ENSG00000157911', 'ENSG00000269896',\n",
      "       'ENSG00000228463', 'ENSG00000260972', 'ENSG00000224340',\n",
      "       'ENSG00000226374',\n",
      "       ...\n",
      "       'ENSG00000276351', 'ENSG00000276345', 'ENSG00000273532',\n",
      "       'ENSG00000275063', 'ENSG00000277856', 'ENSG00000271254',\n",
      "       'ENSG00000275987', 'ENSG00000268674', 'ENSG00000277475',\n",
      "       'ENSG00000275405'],\n",
      "      dtype='object', length=62754)\n",
      "Updated .var index for filtered_preimplantation_adata:\n",
      "Index(['ENSG00000228037', 'PRDM16', 'ENSG00000284616', 'PEX10',\n",
      "       'ENSG00000269896', 'ENSG00000228463', 'ENSG00000260972', 'RPL21P21',\n",
      "       'LINC01345', 'EEF1DP6',\n",
      "       ...\n",
      "       'MT-TH', 'MT-TS2', 'MT-TL2', 'MT-ND5', 'MT-ND6', 'MT-TE', 'MT-CYB',\n",
      "       'MT-TT', 'MT-TP', 'AL355149.2'],\n",
      "      dtype='object', name='gene_symbol', length=59659)\n"
     ]
    }
   ],
   "source": [
    "# Step 3: Inspect and preprocess .var.index in filtered_preimplantation_adata\n",
    "print(\"Data type of filtered_preimplantation_adata.var.index before conversion:\")\n",
    "print(filtered_preimplantation_adata.var.index.dtype)\n",
    "\n",
    "# Convert .var.index to string type\n",
    "filtered_preimplantation_adata.var.index = filtered_preimplantation_adata.var.index.astype(str)\n",
    "\n",
    "# Verify the updated data type\n",
    "print(\"Data type of filtered_preimplantation_adata.var.index after conversion:\")\n",
    "print(filtered_preimplantation_adata.var.index.dtype)\n",
    "\n",
    "# Remove version numbers and suffixes from the gene IDs in .var.index\n",
    "filtered_preimplantation_adata.var.index = filtered_preimplantation_adata.var.index.str.split(\".\").str[0]\n",
    "filtered_preimplantation_adata.var.index = filtered_preimplantation_adata.var.index.str.split(\"_\").str[0]\n",
    "\n",
    "# Verify the updated .var.index\n",
    "print(\"Updated gene IDs in filtered_preimplantation_adata.var.index:\")\n",
    "print(filtered_preimplantation_adata.var.index)\n",
    "\n",
    "# Step 4: Map gene IDs to symbols\n",
    "gene_id_to_symbol = dict(zip(gene_mapping['gene_id'], gene_mapping['gene_symbol']))\n",
    "filtered_preimplantation_adata.var['gene_symbol'] = filtered_preimplantation_adata.var.index.map(gene_id_to_symbol)\n",
    "filtered_preimplantation_adata = filtered_preimplantation_adata[:, filtered_preimplantation_adata.var['gene_symbol'].notna()].copy()\n",
    "filtered_preimplantation_adata.var.index = filtered_preimplantation_adata.var['gene_symbol']\n",
    "\n",
    "# Verify the updated .var index\n",
    "print(\"Updated .var index for filtered_preimplantation_adata:\")\n",
    "print(filtered_preimplantation_adata.var.index)\n"
   ]
  },
  {
   "cell_type": "code",
   "execution_count": 17,
   "id": "f3f0cee0-59fa-46c1-bbfc-e77a3ba3afd2",
   "metadata": {},
   "outputs": [
    {
     "name": "stdout",
     "output_type": "stream",
     "text": [
      "Number of duplicate gene IDs: 1537\n",
      "Sample of duplicate gene IDs:\n",
      "Index(['Y_RNA', 'Y_RNA', 'Y_RNA', 'Y_RNA', 'Y_RNA', 'Y_RNA', 'snoU13', 'Y_RNA',\n",
      "       'U3', 'Y_RNA'],\n",
      "      dtype='object', name='gene_symbol')\n",
      "Updated .var.index after removing duplicates:\n",
      "Index(['ENSG00000228037', 'PRDM16', 'ENSG00000284616', 'PEX10',\n",
      "       'ENSG00000269896', 'ENSG00000228463', 'ENSG00000260972', 'RPL21P21',\n",
      "       'LINC01345', 'EEF1DP6',\n",
      "       ...\n",
      "       'MT-TH', 'MT-TS2', 'MT-TL2', 'MT-ND5', 'MT-ND6', 'MT-TE', 'MT-CYB',\n",
      "       'MT-TT', 'MT-TP', 'AL355149.2'],\n",
      "      dtype='object', name='gene_symbol', length=58122)\n"
     ]
    }
   ],
   "source": [
    "# Step 4: Check for duplicate gene IDs\n",
    "duplicates = filtered_preimplantation_adata.var.index[filtered_preimplantation_adata.var.index.duplicated()]\n",
    "print(f\"Number of duplicate gene IDs: {len(duplicates)}\")\n",
    "if len(duplicates) > 0:\n",
    "    print(\"Sample of duplicate gene IDs:\")\n",
    "    print(duplicates[:10])\n",
    "\n",
    "# Drop duplicate gene IDs, keeping only the first occurrence\n",
    "filtered_preimplantation_adata = filtered_preimplantation_adata[:, ~filtered_preimplantation_adata.var.index.duplicated()].copy()\n",
    "\n",
    "# Verify the updated .var.index\n",
    "print(\"Updated .var.index after removing duplicates:\")\n",
    "print(filtered_preimplantation_adata.var.index)"
   ]
  },
  {
   "cell_type": "code",
   "execution_count": 18,
   "id": "168da980-e2e1-4a7b-a84d-46aaebd835c0",
   "metadata": {},
   "outputs": [
    {
     "name": "stdout",
     "output_type": "stream",
     "text": [
      "Filtered preimplantation .var with gene symbols:\n",
      "                     gene_symbol\n",
      "gene_symbol                     \n",
      "ENSG00000228037  ENSG00000228037\n",
      "PRDM16                       NaN\n",
      "ENSG00000284616  ENSG00000284616\n",
      "PEX10                        NaN\n",
      "ENSG00000269896  ENSG00000269896\n",
      "Adata .var with gene symbols:\n",
      "                features  n_cells  highly_variable     means  dispersions  \\\n",
      "MIR1302-2HG  MIR1302-2HG       20            False  0.000090     0.118350   \n",
      "OR4F5              OR4F5        5            False  0.000149     0.300203   \n",
      "AL627309.1    AL627309.1      220            False  0.000821     0.203147   \n",
      "AL627309.3    AL627309.3        4            False  0.000004     0.015082   \n",
      "AL627309.5    AL627309.5      555            False  0.002144     0.213056   \n",
      "\n",
      "             dispersions_norm  highly_variable_nbatches  \\\n",
      "MIR1302-2HG          0.564889                         1   \n",
      "OR4F5                1.220983                         1   \n",
      "AL627309.1          -0.084739                         0   \n",
      "AL627309.3          -0.409870                         0   \n",
      "AL627309.5          -0.030466                         0   \n",
      "\n",
      "             highly_variable_intersection gene_symbol  \n",
      "MIR1302-2HG                         False         NaN  \n",
      "OR4F5                               False         NaN  \n",
      "AL627309.1                          False         NaN  \n",
      "AL627309.3                          False         NaN  \n",
      "AL627309.5                          False         NaN  \n",
      "Number of common genes: 45796\n",
      "Sample of common genes:\n",
      "['ENSG00000228037', 'PRDM16', 'ENSG00000284616', 'PEX10', 'ENSG00000269896', 'ENSG00000228463', 'RPL21P21', 'LINC01345', 'EEF1DP6', 'PEX14']\n",
      "Subsetted adata shape: (33406, 45796)\n",
      "Subsetted filtered_preimplantation_adata shape: (1714, 45796)\n"
     ]
    }
   ],
   "source": [
    "# Step 5: Map gene IDs to symbols\n",
    "gene_id_to_symbol = dict(zip(gene_mapping['gene_id'], gene_mapping['gene_symbol']))\n",
    "\n",
    "# Add a 'gene_symbol' column to .var for both datasets\n",
    "filtered_preimplantation_adata.var['gene_symbol'] = filtered_preimplantation_adata.var.index.map(gene_id_to_symbol)\n",
    "adata.var['gene_symbol'] = adata.var.index.map(gene_id_to_symbol)\n",
    "\n",
    "# Verify the updated .var with gene symbols\n",
    "print(\"Filtered preimplantation .var with gene symbols:\")\n",
    "print(filtered_preimplantation_adata.var.head())\n",
    "print(\"Adata .var with gene symbols:\")\n",
    "print(adata.var.head())\n",
    "\n",
    "# Step 6: Find common genes based on gene IDs\n",
    "common_genes = filtered_preimplantation_adata.var.index.intersection(adata.var.index)\n",
    "print(f\"Number of common genes: {len(common_genes)}\")\n",
    "if len(common_genes) == 0:\n",
    "    print(\"No common genes found! Check the gene identifiers in both datasets.\")\n",
    "else:\n",
    "    print(\"Sample of common genes:\")\n",
    "    print(list(common_genes)[:10])\n",
    "\n",
    "# Step 7: Subset to common genes\n",
    "adata_common = adata[:, common_genes].copy()\n",
    "filtered_preimplantation_adata_common = filtered_preimplantation_adata[:, common_genes].copy()\n",
    "\n",
    "# Verify the shapes of the subsetted datasets\n",
    "print(f\"Subsetted adata shape: {adata_common.shape}\")\n",
    "print(f\"Subsetted filtered_preimplantation_adata shape: {filtered_preimplantation_adata_common.shape}\")\n"
   ]
  },
  {
   "cell_type": "code",
   "execution_count": 19,
   "id": "450ba28b-3eab-4f9d-8a84-5a231e691735",
   "metadata": {},
   "outputs": [
    {
     "name": "stdout",
     "output_type": "stream",
     "text": [
      "Updated .obs columns in filtered_preimplantation_adata_common:\n",
      "Index(['orig.ident', 'nCount_RNA', 'nFeature_RNA', 'sample', 'stage',\n",
      "       'percent.mt', 'species', 'embryo', 'platform', 'ann_level_2',\n",
      "       'ann_level_3', 'ann_level_1', 'reanno', 'lineage', 'unicorns',\n",
      "       'combined_annotation', 'final_anno', 'final_lineage'],\n",
      "      dtype='object')\n",
      "Merged dataset shape: (35120, 45796)\n",
      "First few rows of merged .obs:\n",
      "                               orig.ident  nCount_RNA  nFeature_RNA   sample  \\\n",
      "AAACCTGAGACGCTTT-1_1_1_1_1_1_1       mole    112028.0          9381  Sample1   \n",
      "AACGTTGAGACGCAAC-1_1_1_1_1_1_1       mole    191885.0          8618  Sample1   \n",
      "AACTCAGCAGACGCCT-1_1_1_1_1_1_1       mole    189565.0          7942  Sample1   \n",
      "AAGACCTTCGGCGCTA-1_1_1_1_1_1_1       mole     25545.0          4869  Sample1   \n",
      "AAGCCGCCATATGGTC-1_1_1_1_1_1_1       mole    107601.0         10074  Sample1   \n",
      "\n",
      "                                 stage  percent.mt       species  \\\n",
      "AAACCTGAGACGCTTT-1_1_1_1_1_1_1  E9_IVC    5.228157  Homo sapiens   \n",
      "AACGTTGAGACGCAAC-1_1_1_1_1_1_1  E9_IVC   14.688485  Homo sapiens   \n",
      "AACTCAGCAGACGCCT-1_1_1_1_1_1_1  E9_IVC    7.517738  Homo sapiens   \n",
      "AAGACCTTCGGCGCTA-1_1_1_1_1_1_1  E9_IVC   17.987865  Homo sapiens   \n",
      "AAGCCGCCATATGGTC-1_1_1_1_1_1_1  E9_IVC    3.851265  Homo sapiens   \n",
      "\n",
      "                                              embryo      platform  \\\n",
      "AAACCTGAGACGCTTT-1_1_1_1_1_1_1  Real Embryo in vitro  10x-Genomics   \n",
      "AACGTTGAGACGCAAC-1_1_1_1_1_1_1  Real Embryo in vitro  10x-Genomics   \n",
      "AACTCAGCAGACGCCT-1_1_1_1_1_1_1  Real Embryo in vitro  10x-Genomics   \n",
      "AAGACCTTCGGCGCTA-1_1_1_1_1_1_1  Real Embryo in vitro  10x-Genomics   \n",
      "AAGCCGCCATATGGTC-1_1_1_1_1_1_1  Real Embryo in vitro  10x-Genomics   \n",
      "\n",
      "                               ann_level_2 ann_level_3 ann_level_1  reanno  \\\n",
      "AAACCTGAGACGCTTT-1_1_1_1_1_1_1  TE_CTB_STB  TE_CTB_STB      TE/TrB    CTBs   \n",
      "AACGTTGAGACGCAAC-1_1_1_1_1_1_1  TE_CTB_STB  TE_CTB_STB      TE/TrB  STBs_3   \n",
      "AACTCAGCAGACGCCT-1_1_1_1_1_1_1  TE_CTB_STB  TE_CTB_STB      TE/TrB  STBs_1   \n",
      "AAGACCTTCGGCGCTA-1_1_1_1_1_1_1  TE_CTB_STB  TE_CTB_STB      TE/TrB  STBs_1   \n",
      "AAGCCGCCATATGGTC-1_1_1_1_1_1_1   Hypoblast   Hypoblast   Hypoblast     AVE   \n",
      "\n",
      "                                 lineage     unicorns combined_annotation  \\\n",
      "AAACCTGAGACGCTTT-1_1_1_1_1_1_1    TE_TrB  non-unicorn           CTBs_mole   \n",
      "AACGTTGAGACGCAAC-1_1_1_1_1_1_1    TE_TrB  non-unicorn         STBs_3_mole   \n",
      "AACTCAGCAGACGCCT-1_1_1_1_1_1_1    TE_TrB  non-unicorn         STBs_1_mole   \n",
      "AAGACCTTCGGCGCTA-1_1_1_1_1_1_1    TE_TrB  non-unicorn         STBs_1_mole   \n",
      "AAGCCGCCATATGGTC-1_1_1_1_1_1_1  ExE_endo  non-unicorn            AVE_mole   \n",
      "\n",
      "                               final_anno final_lineage dataset  \n",
      "AAACCTGAGACGCTTT-1_1_1_1_1_1_1     CTBs_3        TE_TrB   adata  \n",
      "AACGTTGAGACGCAAC-1_1_1_1_1_1_1     STBs_3        TE_TrB   adata  \n",
      "AACTCAGCAGACGCCT-1_1_1_1_1_1_1     STBs_1        TE_TrB   adata  \n",
      "AAGACCTTCGGCGCTA-1_1_1_1_1_1_1     STBs_1        TE_TrB   adata  \n",
      "AAGCCGCCATATGGTC-1_1_1_1_1_1_1        AVE      ExE_endo   adata  \n"
     ]
    }
   ],
   "source": [
    "# Define the list of selected .obs columns to retain\n",
    "selected_obs_columns = [\n",
    "    'orig.ident', 'nCount_RNA', 'nFeature_RNA', 'sample', 'stage', 'percent.mt',\n",
    "    'species', 'embryo', 'platform', 'ann_level_2', 'ann_level_3', 'ann_level_1',\n",
    "    'reanno', 'lineage', 'unicorns', 'combined_annotation', 'final_anno', 'final_lineage'\n",
    "]\n",
    "\n",
    "# Step 1: Add missing .obs columns to filtered_preimplantation_adata_common\n",
    "# Reindex to include all selected columns, filling missing ones with NaN\n",
    "filtered_preimplantation_adata_common.obs = filtered_preimplantation_adata_common.obs.reindex(columns=selected_obs_columns)\n",
    "\n",
    "# Fill missing values with NaN\n",
    "filtered_preimplantation_adata_common.obs = filtered_preimplantation_adata_common.obs.fillna(np.nan)\n",
    "\n",
    "# Verify the updated .obs columns in filtered_preimplantation_adata_common\n",
    "print(\"Updated .obs columns in filtered_preimplantation_adata_common:\")\n",
    "print(filtered_preimplantation_adata_common.obs.columns)\n",
    "\n",
    "# Step 2: Merge datasets using inner join\n",
    "merged_adata = sc.concat(\n",
    "    [adata_common, filtered_preimplantation_adata_common],\n",
    "    axis=0,  # Concatenate along the cell axis\n",
    "    join=\"inner\"  # Use inner join to retain only common columns\n",
    ")\n",
    "\n",
    "# Add a new column in .obs to distinguish the source of each cell\n",
    "merged_adata.obs[\"dataset\"] = [\"adata\"] * adata_common.n_obs + [\"preimplantation\"] * filtered_preimplantation_adata_common.n_obs\n",
    "\n",
    "# Verify the merged dataset\n",
    "print(f\"Merged dataset shape: {merged_adata.shape}\")\n",
    "print(\"First few rows of merged .obs:\")\n",
    "print(merged_adata.obs.head())"
   ]
  },
  {
   "cell_type": "code",
   "execution_count": 20,
   "id": "21ae7d21-a871-47b4-90a2-86e03a451055",
   "metadata": {},
   "outputs": [
    {
     "data": {
      "text/plain": [
       "AnnData object with n_obs × n_vars = 35120 × 45796\n",
       "    obs: 'orig.ident', 'nCount_RNA', 'nFeature_RNA', 'sample', 'stage', 'percent.mt', 'species', 'embryo', 'platform', 'ann_level_2', 'ann_level_3', 'ann_level_1', 'reanno', 'lineage', 'unicorns', 'combined_annotation', 'final_anno', 'final_lineage', 'dataset'\n",
       "    layers: 'counts'"
      ]
     },
     "execution_count": 20,
     "metadata": {},
     "output_type": "execute_result"
    }
   ],
   "source": [
    "merged_adata"
   ]
  },
  {
   "cell_type": "code",
   "execution_count": 21,
   "id": "f6745375-0754-47d1-825e-f0eb80ae3a65",
   "metadata": {},
   "outputs": [
    {
     "name": "stdout",
     "output_type": "stream",
     "text": [
      "Current Working Directory: /storage/liuxiaodongLab/fanxueying/mayanalysis/2024Aug\n"
     ]
    }
   ],
   "source": [
    "# Get the current working directory\n",
    "current_directory = os.getcwd()\n",
    "\n",
    "# Print the current working directory\n",
    "print(f\"Current Working Directory: {current_directory}\")"
   ]
  },
  {
   "cell_type": "code",
   "execution_count": 22,
   "id": "9cd2c683-957e-4570-a692-80b633653a4a",
   "metadata": {},
   "outputs": [
    {
     "name": "stdout",
     "output_type": "stream",
     "text": [
      "Columns in merged_adata.obs:\n",
      "Index(['orig.ident', 'nCount_RNA', 'nFeature_RNA', 'sample', 'stage',\n",
      "       'percent.mt', 'species', 'embryo', 'platform', 'ann_level_2',\n",
      "       'ann_level_3', 'ann_level_1', 'reanno', 'lineage', 'unicorns',\n",
      "       'combined_annotation', 'final_anno', 'final_lineage', 'dataset'],\n",
      "      dtype='object')\n",
      "\n",
      "Data types of merged_adata.obs:\n",
      "orig.ident             category\n",
      "nCount_RNA              float64\n",
      "nFeature_RNA              int64\n",
      "sample                   object\n",
      "stage                    object\n",
      "percent.mt              float64\n",
      "species                  object\n",
      "embryo                   object\n",
      "platform               category\n",
      "ann_level_2            category\n",
      "ann_level_3            category\n",
      "ann_level_1              object\n",
      "reanno                   object\n",
      "lineage                  object\n",
      "unicorns                 object\n",
      "combined_annotation      object\n",
      "final_anno               object\n",
      "final_lineage            object\n",
      "dataset                  object\n",
      "dtype: object\n",
      "\n",
      "First few rows of merged_adata.obs:\n",
      "                               orig.ident  nCount_RNA  nFeature_RNA   sample  \\\n",
      "AAACCTGAGACGCTTT-1_1_1_1_1_1_1       mole    112028.0          9381  Sample1   \n",
      "AACGTTGAGACGCAAC-1_1_1_1_1_1_1       mole    191885.0          8618  Sample1   \n",
      "AACTCAGCAGACGCCT-1_1_1_1_1_1_1       mole    189565.0          7942  Sample1   \n",
      "AAGACCTTCGGCGCTA-1_1_1_1_1_1_1       mole     25545.0          4869  Sample1   \n",
      "AAGCCGCCATATGGTC-1_1_1_1_1_1_1       mole    107601.0         10074  Sample1   \n",
      "\n",
      "                                 stage  percent.mt       species  \\\n",
      "AAACCTGAGACGCTTT-1_1_1_1_1_1_1  E9_IVC    5.228157  Homo sapiens   \n",
      "AACGTTGAGACGCAAC-1_1_1_1_1_1_1  E9_IVC   14.688485  Homo sapiens   \n",
      "AACTCAGCAGACGCCT-1_1_1_1_1_1_1  E9_IVC    7.517738  Homo sapiens   \n",
      "AAGACCTTCGGCGCTA-1_1_1_1_1_1_1  E9_IVC   17.987865  Homo sapiens   \n",
      "AAGCCGCCATATGGTC-1_1_1_1_1_1_1  E9_IVC    3.851265  Homo sapiens   \n",
      "\n",
      "                                              embryo      platform  \\\n",
      "AAACCTGAGACGCTTT-1_1_1_1_1_1_1  Real Embryo in vitro  10x-Genomics   \n",
      "AACGTTGAGACGCAAC-1_1_1_1_1_1_1  Real Embryo in vitro  10x-Genomics   \n",
      "AACTCAGCAGACGCCT-1_1_1_1_1_1_1  Real Embryo in vitro  10x-Genomics   \n",
      "AAGACCTTCGGCGCTA-1_1_1_1_1_1_1  Real Embryo in vitro  10x-Genomics   \n",
      "AAGCCGCCATATGGTC-1_1_1_1_1_1_1  Real Embryo in vitro  10x-Genomics   \n",
      "\n",
      "                               ann_level_2 ann_level_3 ann_level_1  reanno  \\\n",
      "AAACCTGAGACGCTTT-1_1_1_1_1_1_1  TE_CTB_STB  TE_CTB_STB      TE/TrB    CTBs   \n",
      "AACGTTGAGACGCAAC-1_1_1_1_1_1_1  TE_CTB_STB  TE_CTB_STB      TE/TrB  STBs_3   \n",
      "AACTCAGCAGACGCCT-1_1_1_1_1_1_1  TE_CTB_STB  TE_CTB_STB      TE/TrB  STBs_1   \n",
      "AAGACCTTCGGCGCTA-1_1_1_1_1_1_1  TE_CTB_STB  TE_CTB_STB      TE/TrB  STBs_1   \n",
      "AAGCCGCCATATGGTC-1_1_1_1_1_1_1   Hypoblast   Hypoblast   Hypoblast     AVE   \n",
      "\n",
      "                                 lineage     unicorns combined_annotation  \\\n",
      "AAACCTGAGACGCTTT-1_1_1_1_1_1_1    TE_TrB  non-unicorn           CTBs_mole   \n",
      "AACGTTGAGACGCAAC-1_1_1_1_1_1_1    TE_TrB  non-unicorn         STBs_3_mole   \n",
      "AACTCAGCAGACGCCT-1_1_1_1_1_1_1    TE_TrB  non-unicorn         STBs_1_mole   \n",
      "AAGACCTTCGGCGCTA-1_1_1_1_1_1_1    TE_TrB  non-unicorn         STBs_1_mole   \n",
      "AAGCCGCCATATGGTC-1_1_1_1_1_1_1  ExE_endo  non-unicorn            AVE_mole   \n",
      "\n",
      "                               final_anno final_lineage dataset  \n",
      "AAACCTGAGACGCTTT-1_1_1_1_1_1_1     CTBs_3        TE_TrB   adata  \n",
      "AACGTTGAGACGCAAC-1_1_1_1_1_1_1     STBs_3        TE_TrB   adata  \n",
      "AACTCAGCAGACGCCT-1_1_1_1_1_1_1     STBs_1        TE_TrB   adata  \n",
      "AAGACCTTCGGCGCTA-1_1_1_1_1_1_1     STBs_1        TE_TrB   adata  \n",
      "AAGCCGCCATATGGTC-1_1_1_1_1_1_1        AVE      ExE_endo   adata  \n",
      "Non-string columns: ['orig.ident', 'nCount_RNA', 'nFeature_RNA', 'percent.mt', 'platform', 'ann_level_2', 'ann_level_3']\n",
      "\n",
      "Updated data types of merged_adata.obs:\n",
      "orig.ident             object\n",
      "nCount_RNA             object\n",
      "nFeature_RNA           object\n",
      "sample                 object\n",
      "stage                  object\n",
      "percent.mt             object\n",
      "species                object\n",
      "embryo                 object\n",
      "platform               object\n",
      "ann_level_2            object\n",
      "ann_level_3            object\n",
      "ann_level_1            object\n",
      "reanno                 object\n",
      "lineage                object\n",
      "unicorns               object\n",
      "combined_annotation    object\n",
      "final_anno             object\n",
      "final_lineage          object\n",
      "dataset                object\n",
      "dtype: object\n",
      "\n",
      "First few rows of merged_adata.obs after handling missing values:\n",
      "                               orig.ident nCount_RNA nFeature_RNA   sample  \\\n",
      "AAACCTGAGACGCTTT-1_1_1_1_1_1_1       mole   112028.0         9381  Sample1   \n",
      "AACGTTGAGACGCAAC-1_1_1_1_1_1_1       mole   191885.0         8618  Sample1   \n",
      "AACTCAGCAGACGCCT-1_1_1_1_1_1_1       mole   189565.0         7942  Sample1   \n",
      "AAGACCTTCGGCGCTA-1_1_1_1_1_1_1       mole    25545.0         4869  Sample1   \n",
      "AAGCCGCCATATGGTC-1_1_1_1_1_1_1       mole   107601.0        10074  Sample1   \n",
      "\n",
      "                                 stage         percent.mt       species  \\\n",
      "AAACCTGAGACGCTTT-1_1_1_1_1_1_1  E9_IVC  5.228157246402685  Homo sapiens   \n",
      "AACGTTGAGACGCAAC-1_1_1_1_1_1_1  E9_IVC  14.68848529066889  Homo sapiens   \n",
      "AACTCAGCAGACGCCT-1_1_1_1_1_1_1  E9_IVC  7.517737979057316  Homo sapiens   \n",
      "AAGACCTTCGGCGCTA-1_1_1_1_1_1_1  E9_IVC  17.98786455275005  Homo sapiens   \n",
      "AAGCCGCCATATGGTC-1_1_1_1_1_1_1  E9_IVC  3.851265322812985  Homo sapiens   \n",
      "\n",
      "                                              embryo      platform  \\\n",
      "AAACCTGAGACGCTTT-1_1_1_1_1_1_1  Real Embryo in vitro  10x-Genomics   \n",
      "AACGTTGAGACGCAAC-1_1_1_1_1_1_1  Real Embryo in vitro  10x-Genomics   \n",
      "AACTCAGCAGACGCCT-1_1_1_1_1_1_1  Real Embryo in vitro  10x-Genomics   \n",
      "AAGACCTTCGGCGCTA-1_1_1_1_1_1_1  Real Embryo in vitro  10x-Genomics   \n",
      "AAGCCGCCATATGGTC-1_1_1_1_1_1_1  Real Embryo in vitro  10x-Genomics   \n",
      "\n",
      "                               ann_level_2 ann_level_3 ann_level_1  reanno  \\\n",
      "AAACCTGAGACGCTTT-1_1_1_1_1_1_1  TE_CTB_STB  TE_CTB_STB      TE/TrB    CTBs   \n",
      "AACGTTGAGACGCAAC-1_1_1_1_1_1_1  TE_CTB_STB  TE_CTB_STB      TE/TrB  STBs_3   \n",
      "AACTCAGCAGACGCCT-1_1_1_1_1_1_1  TE_CTB_STB  TE_CTB_STB      TE/TrB  STBs_1   \n",
      "AAGACCTTCGGCGCTA-1_1_1_1_1_1_1  TE_CTB_STB  TE_CTB_STB      TE/TrB  STBs_1   \n",
      "AAGCCGCCATATGGTC-1_1_1_1_1_1_1   Hypoblast   Hypoblast   Hypoblast     AVE   \n",
      "\n",
      "                                 lineage     unicorns combined_annotation  \\\n",
      "AAACCTGAGACGCTTT-1_1_1_1_1_1_1    TE_TrB  non-unicorn           CTBs_mole   \n",
      "AACGTTGAGACGCAAC-1_1_1_1_1_1_1    TE_TrB  non-unicorn         STBs_3_mole   \n",
      "AACTCAGCAGACGCCT-1_1_1_1_1_1_1    TE_TrB  non-unicorn         STBs_1_mole   \n",
      "AAGACCTTCGGCGCTA-1_1_1_1_1_1_1    TE_TrB  non-unicorn         STBs_1_mole   \n",
      "AAGCCGCCATATGGTC-1_1_1_1_1_1_1  ExE_endo  non-unicorn            AVE_mole   \n",
      "\n",
      "                               final_anno final_lineage dataset  \n",
      "AAACCTGAGACGCTTT-1_1_1_1_1_1_1     CTBs_3        TE_TrB   adata  \n",
      "AACGTTGAGACGCAAC-1_1_1_1_1_1_1     STBs_3        TE_TrB   adata  \n",
      "AACTCAGCAGACGCCT-1_1_1_1_1_1_1     STBs_1        TE_TrB   adata  \n",
      "AAGACCTTCGGCGCTA-1_1_1_1_1_1_1     STBs_1        TE_TrB   adata  \n",
      "AAGCCGCCATATGGTC-1_1_1_1_1_1_1        AVE      ExE_endo   adata  \n"
     ]
    }
   ],
   "source": [
    "# Inspect the .obs DataFrame\n",
    "print(\"Columns in merged_adata.obs:\")\n",
    "print(merged_adata.obs.columns)\n",
    "\n",
    "# Check the data types of each column\n",
    "print(\"\\nData types of merged_adata.obs:\")\n",
    "print(merged_adata.obs.dtypes)\n",
    "\n",
    "# Inspect the first few rows of merged_adata.obs\n",
    "print(\"\\nFirst few rows of merged_adata.obs:\")\n",
    "print(merged_adata.obs.head())\n",
    "\n",
    "# Identify non-string columns\n",
    "non_string_columns = [col for col, dtype in merged_adata.obs.dtypes.items() if dtype != \"object\"]\n",
    "print(f\"Non-string columns: {non_string_columns}\")\n",
    "\n",
    "# Convert non-string columns to strings\n",
    "for col in non_string_columns:\n",
    "    merged_adata.obs[col] = merged_adata.obs[col].astype(str)\n",
    "\n",
    "# Verify the updated data types\n",
    "print(\"\\nUpdated data types of merged_adata.obs:\")\n",
    "print(merged_adata.obs.dtypes)\n",
    "\n",
    "# Handle missing values\n",
    "merged_adata.obs = merged_adata.obs.fillna(\"NA\")\n",
    "\n",
    "# Verify the updated .obs DataFrame\n",
    "print(\"\\nFirst few rows of merged_adata.obs after handling missing values:\")\n",
    "print(merged_adata.obs.head())\n"
   ]
  },
  {
   "cell_type": "code",
   "execution_count": 26,
   "id": "d9a235d9-dbaa-4565-b4e1-e80c58d7aeed",
   "metadata": {},
   "outputs": [
    {
     "name": "stdout",
     "output_type": "stream",
     "text": [
      "{0.0, 1.25, 2.0, 3.0, 4.0, 5.0, 6.0, 7.0, 8.0, 'E9_IVC', 10.0, 9.0, 0.75, 'E6', 'CS10', 'CS7', 'E11_IVC', 'E7_IVC', 'E10_IVC', 'E8_IVC', 'E12_IVC', 'E6_IVC', 'E14_IVC', 0.33, 'E13_IVC'}\n"
     ]
    }
   ],
   "source": [
    "print(set(merged_adata.obs[\"stage\"]))"
   ]
  },
  {
   "cell_type": "code",
   "execution_count": 27,
   "id": "e03cea05-5c9e-4e5d-9214-234dff2beaad",
   "metadata": {},
   "outputs": [
    {
     "name": "stdout",
     "output_type": "stream",
     "text": [
      "\n",
      "Updated unique values in merged_adata.obs['stage']:\n",
      "['E9_IVC' 'E11_IVC' 'CS10' 'E10_IVC' 'E12_IVC' 'E13_IVC' 'E14_IVC' 'CS7'\n",
      " 'E6_IVC' 'E7_IVC' 'E8_IVC' 'E6' '5.0' '6.0' '7.0' '10.0' '8.0' '9.0'\n",
      " '2.0' '3.0' '1.25' '4.0' '0.0' '0.75' '0.33']\n"
     ]
    }
   ],
   "source": [
    "# Convert the 'stage' column to strings\n",
    "merged_adata.obs['stage'] = merged_adata.obs['stage'].astype(str)\n",
    "\n",
    "# Verify the updated 'stage' column\n",
    "print(\"\\nUpdated unique values in merged_adata.obs['stage']:\")\n",
    "print(merged_adata.obs['stage'].unique())"
   ]
  },
  {
   "cell_type": "code",
   "execution_count": 28,
   "id": "3a2b5624-e643-4568-8743-b7a924eba21f",
   "metadata": {},
   "outputs": [],
   "source": [
    "merged_adata.raw.var.rename(columns={'_index': 'index'}, inplace=True)\n",
    "merged_adata.write_h5ad(filename=\"embryo_pre_post_20250310.h5ad\")"
   ]
  },
  {
   "cell_type": "code",
   "execution_count": null,
   "id": "93eab2e3-b6e5-46a3-b42b-3d648a22f08c",
   "metadata": {},
   "outputs": [],
   "source": []
  }
 ],
 "metadata": {
  "kernelspec": {
   "display_name": "Python 3 (ipykernel)",
   "language": "python",
   "name": "python3"
  },
  "language_info": {
   "codemirror_mode": {
    "name": "ipython",
    "version": 3
   },
   "file_extension": ".py",
   "mimetype": "text/x-python",
   "name": "python",
   "nbconvert_exporter": "python",
   "pygments_lexer": "ipython3",
   "version": "3.8.12"
  }
 },
 "nbformat": 4,
 "nbformat_minor": 5
}
